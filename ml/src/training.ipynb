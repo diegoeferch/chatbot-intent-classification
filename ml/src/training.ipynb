{
 "cells": [
  {
   "cell_type": "markdown",
   "source": [
    "# Model Training"
   ],
   "metadata": {
    "collapsed": false
   },
   "id": "126ae093114a1892"
  },
  {
   "cell_type": "markdown",
   "source": [
    "## 1. Data gathering"
   ],
   "metadata": {
    "collapsed": false
   },
   "id": "be115a6317e212fa"
  },
  {
   "cell_type": "code",
   "execution_count": 12,
   "outputs": [
    {
     "name": "stdout",
     "output_type": "stream",
     "text": [
      "The autoreload extension is already loaded. To reload it, use:\n",
      "  %reload_ext autoreload\n"
     ]
    },
    {
     "name": "stderr",
     "output_type": "stream",
     "text": [
      "/home/diego/Coding/learning/technical-tests/chatbot-intent-classification/.venv/lib/python3.11/site-packages/pydantic/_internal/_fields.py:128: UserWarning: Field \"model_server_url\" has conflict with protected namespace \"model_\".\n",
      "\n",
      "You may be able to resolve this warning by setting `model_config['protected_namespaces'] = ()`.\n",
      "  warnings.warn(\n",
      "/home/diego/Coding/learning/technical-tests/chatbot-intent-classification/.venv/lib/python3.11/site-packages/pydantic/_internal/_config.py:317: UserWarning: Valid config keys have changed in V2:\n",
      "* 'schema_extra' has been renamed to 'json_schema_extra'\n",
      "  warnings.warn(message, UserWarning)\n"
     ]
    }
   ],
   "source": [
    "%load_ext autoreload\n",
    "%autoreload 2\n",
    "import os\n",
    "\n",
    "from config import INTENT_DATASET_PATH \n",
    "from data_utils import (create_intent_dataset,\n",
    "                        load_intent_dataset,\n",
    "                        train_test_split_data, \n",
    "                        split_data)\n",
    "from model_training import train_logistic_regression"
   ],
   "metadata": {
    "collapsed": false,
    "ExecuteTime": {
     "end_time": "2023-10-02T10:38:28.486589906Z",
     "start_time": "2023-10-02T10:38:27.837639973Z"
    }
   },
   "id": "f440cec6311cc76b"
  },
  {
   "cell_type": "code",
   "execution_count": 3,
   "outputs": [],
   "source": [
    "if not os.path.exists(INTENT_DATASET_PATH):\n",
    "    create_intent_dataset()"
   ],
   "metadata": {
    "collapsed": false,
    "ExecuteTime": {
     "end_time": "2023-10-02T10:00:46.438029126Z",
     "start_time": "2023-10-02T10:00:46.393010986Z"
    }
   },
   "id": "1cef3820dcf9af4d"
  },
  {
   "cell_type": "code",
   "execution_count": 4,
   "outputs": [
    {
     "name": "stdout",
     "output_type": "stream",
     "text": [
      "<class 'pandas.core.frame.DataFrame'>\n",
      "RangeIndex: 443 entries, 0 to 442\n",
      "Data columns (total 2 columns):\n",
      " #   Column   Non-Null Count  Dtype \n",
      "---  ------   --------------  ----- \n",
      " 0   message  443 non-null    object\n",
      " 1   intent   443 non-null    object\n",
      "dtypes: object(2)\n",
      "memory usage: 7.1+ KB\n"
     ]
    }
   ],
   "source": [
    "intent_df = load_intent_dataset()\n",
    "intent_df.info()"
   ],
   "metadata": {
    "collapsed": false,
    "ExecuteTime": {
     "end_time": "2023-10-02T10:00:46.480822137Z",
     "start_time": "2023-10-02T10:00:46.414330806Z"
    }
   },
   "id": "fb14bae44c7ea194"
  },
  {
   "cell_type": "code",
   "execution_count": 5,
   "outputs": [
    {
     "data": {
      "text/plain": "                                               message           intent\n0          I'm having trouble logging into my account.  troubleshooting\n1             My password isn't working. Can you help?  troubleshooting\n2      I can't access my order history on the website.  troubleshooting\n3          The website is displaying an error message.  troubleshooting\n4      I'm experiencing slow loading times on the app.  troubleshooting\n..                                                 ...              ...\n438                Is there a support chat I can join?   contactSupport\n439  Can you please connect me to a human support a...   contactSupport\n440  I want to reach a person for assistance as soo...   contactSupport\n441              How do I contact a live support team?   contactSupport\n442  I'd like to connect with a real support specia...   contactSupport\n\n[443 rows x 2 columns]",
      "text/html": "<div>\n<style scoped>\n    .dataframe tbody tr th:only-of-type {\n        vertical-align: middle;\n    }\n\n    .dataframe tbody tr th {\n        vertical-align: top;\n    }\n\n    .dataframe thead th {\n        text-align: right;\n    }\n</style>\n<table border=\"1\" class=\"dataframe\">\n  <thead>\n    <tr style=\"text-align: right;\">\n      <th></th>\n      <th>message</th>\n      <th>intent</th>\n    </tr>\n  </thead>\n  <tbody>\n    <tr>\n      <th>0</th>\n      <td>I'm having trouble logging into my account.</td>\n      <td>troubleshooting</td>\n    </tr>\n    <tr>\n      <th>1</th>\n      <td>My password isn't working. Can you help?</td>\n      <td>troubleshooting</td>\n    </tr>\n    <tr>\n      <th>2</th>\n      <td>I can't access my order history on the website.</td>\n      <td>troubleshooting</td>\n    </tr>\n    <tr>\n      <th>3</th>\n      <td>The website is displaying an error message.</td>\n      <td>troubleshooting</td>\n    </tr>\n    <tr>\n      <th>4</th>\n      <td>I'm experiencing slow loading times on the app.</td>\n      <td>troubleshooting</td>\n    </tr>\n    <tr>\n      <th>...</th>\n      <td>...</td>\n      <td>...</td>\n    </tr>\n    <tr>\n      <th>438</th>\n      <td>Is there a support chat I can join?</td>\n      <td>contactSupport</td>\n    </tr>\n    <tr>\n      <th>439</th>\n      <td>Can you please connect me to a human support a...</td>\n      <td>contactSupport</td>\n    </tr>\n    <tr>\n      <th>440</th>\n      <td>I want to reach a person for assistance as soo...</td>\n      <td>contactSupport</td>\n    </tr>\n    <tr>\n      <th>441</th>\n      <td>How do I contact a live support team?</td>\n      <td>contactSupport</td>\n    </tr>\n    <tr>\n      <th>442</th>\n      <td>I'd like to connect with a real support specia...</td>\n      <td>contactSupport</td>\n    </tr>\n  </tbody>\n</table>\n<p>443 rows × 2 columns</p>\n</div>"
     },
     "execution_count": 5,
     "metadata": {},
     "output_type": "execute_result"
    }
   ],
   "source": [
    "intent_df"
   ],
   "metadata": {
    "collapsed": false,
    "ExecuteTime": {
     "end_time": "2023-10-02T10:00:46.483737782Z",
     "start_time": "2023-10-02T10:00:46.433889171Z"
    }
   },
   "id": "78f9807aa142f56d"
  },
  {
   "cell_type": "code",
   "execution_count": 6,
   "outputs": [],
   "source": [
    "train, test = train_test_split_data(intent_df)"
   ],
   "metadata": {
    "collapsed": false,
    "ExecuteTime": {
     "end_time": "2023-10-02T10:00:46.509828220Z",
     "start_time": "2023-10-02T10:00:46.453305270Z"
    }
   },
   "id": "2276e0624999f19b"
  },
  {
   "cell_type": "code",
   "execution_count": 13,
   "outputs": [],
   "source": [
    "x_train, y_train = split_data(train)\n",
    "x_test, y_test = split_data(test)"
   ],
   "metadata": {
    "collapsed": false,
    "ExecuteTime": {
     "end_time": "2023-10-02T10:39:39.888855156Z",
     "start_time": "2023-10-02T10:39:39.843183306Z"
    }
   },
   "id": "e42faac7341e0fa1"
  },
  {
   "cell_type": "code",
   "execution_count": 8,
   "outputs": [
    {
     "data": {
      "text/plain": "                                               message\n17               I can't upload images on the website.\n66   I'm experiencing issues with the website not d...\n248                              Hi, I have a concern.\n246            Hi, can you guide me through something?\n31                   I can't view my purchase history.\n..                                                 ...\n106   Can you help me change my email address on file?\n270  I need to follow up on my case. Can you open a...\n348  I appreciate your assistance, but I think it's...\n435  I require assistance from a live support team ...\n102  I'm experiencing issues with the website not l...\n\n[354 rows x 1 columns]",
      "text/html": "<div>\n<style scoped>\n    .dataframe tbody tr th:only-of-type {\n        vertical-align: middle;\n    }\n\n    .dataframe tbody tr th {\n        vertical-align: top;\n    }\n\n    .dataframe thead th {\n        text-align: right;\n    }\n</style>\n<table border=\"1\" class=\"dataframe\">\n  <thead>\n    <tr style=\"text-align: right;\">\n      <th></th>\n      <th>message</th>\n    </tr>\n  </thead>\n  <tbody>\n    <tr>\n      <th>17</th>\n      <td>I can't upload images on the website.</td>\n    </tr>\n    <tr>\n      <th>66</th>\n      <td>I'm experiencing issues with the website not d...</td>\n    </tr>\n    <tr>\n      <th>248</th>\n      <td>Hi, I have a concern.</td>\n    </tr>\n    <tr>\n      <th>246</th>\n      <td>Hi, can you guide me through something?</td>\n    </tr>\n    <tr>\n      <th>31</th>\n      <td>I can't view my purchase history.</td>\n    </tr>\n    <tr>\n      <th>...</th>\n      <td>...</td>\n    </tr>\n    <tr>\n      <th>106</th>\n      <td>Can you help me change my email address on file?</td>\n    </tr>\n    <tr>\n      <th>270</th>\n      <td>I need to follow up on my case. Can you open a...</td>\n    </tr>\n    <tr>\n      <th>348</th>\n      <td>I appreciate your assistance, but I think it's...</td>\n    </tr>\n    <tr>\n      <th>435</th>\n      <td>I require assistance from a live support team ...</td>\n    </tr>\n    <tr>\n      <th>102</th>\n      <td>I'm experiencing issues with the website not l...</td>\n    </tr>\n  </tbody>\n</table>\n<p>354 rows × 1 columns</p>\n</div>"
     },
     "execution_count": 8,
     "metadata": {},
     "output_type": "execute_result"
    }
   ],
   "source": [
    "x_train"
   ],
   "metadata": {
    "collapsed": false,
    "ExecuteTime": {
     "end_time": "2023-10-02T10:00:46.580566363Z",
     "start_time": "2023-10-02T10:00:46.512533435Z"
    }
   },
   "id": "a7e7f033f120c36c"
  },
  {
   "cell_type": "code",
   "execution_count": 9,
   "outputs": [
    {
     "data": {
      "text/plain": "17     troubleshooting\n66     troubleshooting\n248           greeting\n246           greeting\n31     troubleshooting\n            ...       \n106    editInformation\n270       createTicket\n348       createTicket\n435     contactSupport\n102    troubleshooting\nName: intent, Length: 354, dtype: object"
     },
     "execution_count": 9,
     "metadata": {},
     "output_type": "execute_result"
    }
   ],
   "source": [
    "y_train"
   ],
   "metadata": {
    "collapsed": false,
    "ExecuteTime": {
     "end_time": "2023-10-02T10:00:46.606291603Z",
     "start_time": "2023-10-02T10:00:46.512766214Z"
    }
   },
   "id": "f35f7d07ea82af3a"
  },
  {
   "cell_type": "code",
   "execution_count": 10,
   "outputs": [
    {
     "data": {
      "text/plain": "17     troubleshooting\n66     troubleshooting\n248           greeting\n246           greeting\n31     troubleshooting\n84     troubleshooting\n304       createTicket\n245           greeting\n180           greeting\n438     contactSupport\nName: intent, dtype: object"
     },
     "execution_count": 10,
     "metadata": {},
     "output_type": "execute_result"
    }
   ],
   "source": [
    "y_train.head(10)"
   ],
   "metadata": {
    "collapsed": false,
    "ExecuteTime": {
     "end_time": "2023-10-02T10:00:46.607313723Z",
     "start_time": "2023-10-02T10:00:46.556491042Z"
    }
   },
   "id": "58b4f96d0b25350c"
  },
  {
   "cell_type": "code",
   "execution_count": 39,
   "outputs": [
    {
     "name": "stdout",
     "output_type": "stream",
     "text": [
      "Starting training...\n",
      "Assessing performance...\n",
      "Model Performance metrics:\n",
      "------------------------------\n",
      "Accuracy: 1.0\n",
      "Precision: 1.0\n",
      "Recall: 1.0\n",
      "F1 Score: 1.0\n",
      "\n",
      "Model Classification report:\n",
      "------------------------------\n",
      "                 precision    recall  f1-score   support\n",
      "\n",
      " contactSupport       1.00      1.00      1.00        20\n",
      "   createTicket       1.00      1.00      1.00        19\n",
      "editInformation       1.00      1.00      1.00        13\n",
      "       greeting       1.00      1.00      1.00         9\n",
      "troubleshooting       1.00      1.00      1.00        28\n",
      "\n",
      "       accuracy                           1.00        89\n",
      "      macro avg       1.00      1.00      1.00        89\n",
      "   weighted avg       1.00      1.00      1.00        89\n",
      "\n",
      "\n",
      "Prediction Confusion Matrix:\n",
      "------------------------------\n",
      "    0   1   2  3   4\n",
      "0  20   0   0  0   0\n",
      "1   0  19   0  0   0\n",
      "2   0   0  13  0   0\n",
      "3   0   0   0  9   0\n",
      "4   0   0   0  0  28\n",
      "Saving metrics to MLFlow...\n"
     ]
    },
    {
     "name": "stderr",
     "output_type": "stream",
     "text": [
      "/home/diego/Coding/learning/technical-tests/chatbot-intent-classification/.venv/lib/python3.11/site-packages/_distutils_hack/__init__.py:18: UserWarning: Distutils was imported before Setuptools, but importing Setuptools also replaces the `distutils` module in `sys.modules`. This may lead to undesirable behaviors or errors. To avoid these issues, avoid using distutils directly, ensure that setuptools is installed in the traditional way (e.g. not an editable install), and/or make sure that setuptools is always imported before distutils.\n",
      "  warnings.warn(\n",
      "/home/diego/Coding/learning/technical-tests/chatbot-intent-classification/.venv/lib/python3.11/site-packages/_distutils_hack/__init__.py:33: UserWarning: Setuptools is replacing distutils.\n",
      "  warnings.warn(\"Setuptools is replacing distutils.\")\n"
     ]
    }
   ],
   "source": [
    "train_logistic_regression(x_train, y_train, x_test, y_test)"
   ],
   "metadata": {
    "collapsed": false,
    "ExecuteTime": {
     "end_time": "2023-10-02T14:06:10.670940534Z",
     "start_time": "2023-10-02T14:06:03.821580703Z"
    }
   },
   "id": "a2f9e470540859e5"
  }
 ],
 "metadata": {
  "kernelspec": {
   "display_name": "Python 3",
   "language": "python",
   "name": "python3"
  },
  "language_info": {
   "codemirror_mode": {
    "name": "ipython",
    "version": 2
   },
   "file_extension": ".py",
   "mimetype": "text/x-python",
   "name": "python",
   "nbconvert_exporter": "python",
   "pygments_lexer": "ipython2",
   "version": "2.7.6"
  }
 },
 "nbformat": 4,
 "nbformat_minor": 5
}
