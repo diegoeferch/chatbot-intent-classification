{
 "cells": [
  {
   "cell_type": "markdown",
   "source": [
    "# Model Training"
   ],
   "metadata": {
    "collapsed": false
   },
   "id": "126ae093114a1892"
  },
  {
   "cell_type": "markdown",
   "source": [
    "## 1. Data gathering"
   ],
   "metadata": {
    "collapsed": false
   },
   "id": "be115a6317e212fa"
  },
  {
   "cell_type": "code",
   "execution_count": 40,
   "outputs": [
    {
     "name": "stdout",
     "output_type": "stream",
     "text": [
      "Collecting en-core-web-sm==3.6.0\n",
      "  Downloading https://github.com/explosion/spacy-models/releases/download/en_core_web_sm-3.6.0/en_core_web_sm-3.6.0-py3-none-any.whl (12.8 MB)\n",
      "\u001B[2K     \u001B[90m━━━━━━━━━━━━━━━━━━━━━━━━━━━━━━━━━━━━━━━━\u001B[0m \u001B[32m12.8/12.8 MB\u001B[0m \u001B[31m11.5 MB/s\u001B[0m eta \u001B[36m0:00:00\u001B[0m00:01\u001B[0m00:01\u001B[0m\n",
      "\u001B[?25hRequirement already satisfied: spacy<3.7.0,>=3.6.0 in /home/diego/Coding/learning/technical-tests/chatbot-intent-classification/.venv/lib/python3.11/site-packages (from en-core-web-sm==3.6.0) (3.6.1)\n",
      "Requirement already satisfied: spacy-legacy<3.1.0,>=3.0.11 in /home/diego/Coding/learning/technical-tests/chatbot-intent-classification/.venv/lib/python3.11/site-packages (from spacy<3.7.0,>=3.6.0->en-core-web-sm==3.6.0) (3.0.12)\n",
      "Requirement already satisfied: spacy-loggers<2.0.0,>=1.0.0 in /home/diego/Coding/learning/technical-tests/chatbot-intent-classification/.venv/lib/python3.11/site-packages (from spacy<3.7.0,>=3.6.0->en-core-web-sm==3.6.0) (1.0.5)\n",
      "Requirement already satisfied: murmurhash<1.1.0,>=0.28.0 in /home/diego/Coding/learning/technical-tests/chatbot-intent-classification/.venv/lib/python3.11/site-packages (from spacy<3.7.0,>=3.6.0->en-core-web-sm==3.6.0) (1.0.10)\n",
      "Requirement already satisfied: cymem<2.1.0,>=2.0.2 in /home/diego/Coding/learning/technical-tests/chatbot-intent-classification/.venv/lib/python3.11/site-packages (from spacy<3.7.0,>=3.6.0->en-core-web-sm==3.6.0) (2.0.8)\n",
      "Requirement already satisfied: preshed<3.1.0,>=3.0.2 in /home/diego/Coding/learning/technical-tests/chatbot-intent-classification/.venv/lib/python3.11/site-packages (from spacy<3.7.0,>=3.6.0->en-core-web-sm==3.6.0) (3.0.9)\n",
      "Requirement already satisfied: thinc<8.2.0,>=8.1.8 in /home/diego/Coding/learning/technical-tests/chatbot-intent-classification/.venv/lib/python3.11/site-packages (from spacy<3.7.0,>=3.6.0->en-core-web-sm==3.6.0) (8.1.12)\n",
      "Requirement already satisfied: wasabi<1.2.0,>=0.9.1 in /home/diego/Coding/learning/technical-tests/chatbot-intent-classification/.venv/lib/python3.11/site-packages (from spacy<3.7.0,>=3.6.0->en-core-web-sm==3.6.0) (1.1.2)\n",
      "Requirement already satisfied: srsly<3.0.0,>=2.4.3 in /home/diego/Coding/learning/technical-tests/chatbot-intent-classification/.venv/lib/python3.11/site-packages (from spacy<3.7.0,>=3.6.0->en-core-web-sm==3.6.0) (2.4.8)\n",
      "Requirement already satisfied: catalogue<2.1.0,>=2.0.6 in /home/diego/Coding/learning/technical-tests/chatbot-intent-classification/.venv/lib/python3.11/site-packages (from spacy<3.7.0,>=3.6.0->en-core-web-sm==3.6.0) (2.0.10)\n",
      "Requirement already satisfied: typer<0.10.0,>=0.3.0 in /home/diego/Coding/learning/technical-tests/chatbot-intent-classification/.venv/lib/python3.11/site-packages (from spacy<3.7.0,>=3.6.0->en-core-web-sm==3.6.0) (0.9.0)\n",
      "Requirement already satisfied: pathy>=0.10.0 in /home/diego/Coding/learning/technical-tests/chatbot-intent-classification/.venv/lib/python3.11/site-packages (from spacy<3.7.0,>=3.6.0->en-core-web-sm==3.6.0) (0.10.2)\n",
      "Requirement already satisfied: smart-open<7.0.0,>=5.2.1 in /home/diego/Coding/learning/technical-tests/chatbot-intent-classification/.venv/lib/python3.11/site-packages (from spacy<3.7.0,>=3.6.0->en-core-web-sm==3.6.0) (6.4.0)\n",
      "Requirement already satisfied: tqdm<5.0.0,>=4.38.0 in /home/diego/Coding/learning/technical-tests/chatbot-intent-classification/.venv/lib/python3.11/site-packages (from spacy<3.7.0,>=3.6.0->en-core-web-sm==3.6.0) (4.66.1)\n",
      "Requirement already satisfied: numpy>=1.15.0 in /home/diego/Coding/learning/technical-tests/chatbot-intent-classification/.venv/lib/python3.11/site-packages (from spacy<3.7.0,>=3.6.0->en-core-web-sm==3.6.0) (1.26.0)\n",
      "Requirement already satisfied: requests<3.0.0,>=2.13.0 in /home/diego/Coding/learning/technical-tests/chatbot-intent-classification/.venv/lib/python3.11/site-packages (from spacy<3.7.0,>=3.6.0->en-core-web-sm==3.6.0) (2.31.0)\n",
      "Requirement already satisfied: pydantic!=1.8,!=1.8.1,<3.0.0,>=1.7.4 in /home/diego/Coding/learning/technical-tests/chatbot-intent-classification/.venv/lib/python3.11/site-packages (from spacy<3.7.0,>=3.6.0->en-core-web-sm==3.6.0) (2.4.2)\n",
      "Requirement already satisfied: jinja2 in /home/diego/Coding/learning/technical-tests/chatbot-intent-classification/.venv/lib/python3.11/site-packages (from spacy<3.7.0,>=3.6.0->en-core-web-sm==3.6.0) (3.1.2)\n",
      "Requirement already satisfied: setuptools in /home/diego/Coding/learning/technical-tests/chatbot-intent-classification/.venv/lib/python3.11/site-packages (from spacy<3.7.0,>=3.6.0->en-core-web-sm==3.6.0) (65.5.0)\n",
      "Requirement already satisfied: packaging>=20.0 in /home/diego/Coding/learning/technical-tests/chatbot-intent-classification/.venv/lib/python3.11/site-packages (from spacy<3.7.0,>=3.6.0->en-core-web-sm==3.6.0) (23.2)\n",
      "Requirement already satisfied: langcodes<4.0.0,>=3.2.0 in /home/diego/Coding/learning/technical-tests/chatbot-intent-classification/.venv/lib/python3.11/site-packages (from spacy<3.7.0,>=3.6.0->en-core-web-sm==3.6.0) (3.3.0)\n",
      "Requirement already satisfied: annotated-types>=0.4.0 in /home/diego/Coding/learning/technical-tests/chatbot-intent-classification/.venv/lib/python3.11/site-packages (from pydantic!=1.8,!=1.8.1,<3.0.0,>=1.7.4->spacy<3.7.0,>=3.6.0->en-core-web-sm==3.6.0) (0.5.0)\n",
      "Requirement already satisfied: pydantic-core==2.10.1 in /home/diego/Coding/learning/technical-tests/chatbot-intent-classification/.venv/lib/python3.11/site-packages (from pydantic!=1.8,!=1.8.1,<3.0.0,>=1.7.4->spacy<3.7.0,>=3.6.0->en-core-web-sm==3.6.0) (2.10.1)\n",
      "Requirement already satisfied: typing-extensions>=4.6.1 in /home/diego/Coding/learning/technical-tests/chatbot-intent-classification/.venv/lib/python3.11/site-packages (from pydantic!=1.8,!=1.8.1,<3.0.0,>=1.7.4->spacy<3.7.0,>=3.6.0->en-core-web-sm==3.6.0) (4.8.0)\n",
      "Requirement already satisfied: charset-normalizer<4,>=2 in /home/diego/Coding/learning/technical-tests/chatbot-intent-classification/.venv/lib/python3.11/site-packages (from requests<3.0.0,>=2.13.0->spacy<3.7.0,>=3.6.0->en-core-web-sm==3.6.0) (3.3.0)\n",
      "Requirement already satisfied: idna<4,>=2.5 in /home/diego/Coding/learning/technical-tests/chatbot-intent-classification/.venv/lib/python3.11/site-packages (from requests<3.0.0,>=2.13.0->spacy<3.7.0,>=3.6.0->en-core-web-sm==3.6.0) (3.4)\n",
      "Requirement already satisfied: urllib3<3,>=1.21.1 in /home/diego/Coding/learning/technical-tests/chatbot-intent-classification/.venv/lib/python3.11/site-packages (from requests<3.0.0,>=2.13.0->spacy<3.7.0,>=3.6.0->en-core-web-sm==3.6.0) (1.26.16)\n",
      "Requirement already satisfied: certifi>=2017.4.17 in /home/diego/Coding/learning/technical-tests/chatbot-intent-classification/.venv/lib/python3.11/site-packages (from requests<3.0.0,>=2.13.0->spacy<3.7.0,>=3.6.0->en-core-web-sm==3.6.0) (2023.7.22)\n",
      "Requirement already satisfied: blis<0.8.0,>=0.7.8 in /home/diego/Coding/learning/technical-tests/chatbot-intent-classification/.venv/lib/python3.11/site-packages (from thinc<8.2.0,>=8.1.8->spacy<3.7.0,>=3.6.0->en-core-web-sm==3.6.0) (0.7.11)\n",
      "Requirement already satisfied: confection<1.0.0,>=0.0.1 in /home/diego/Coding/learning/technical-tests/chatbot-intent-classification/.venv/lib/python3.11/site-packages (from thinc<8.2.0,>=8.1.8->spacy<3.7.0,>=3.6.0->en-core-web-sm==3.6.0) (0.1.3)\n",
      "Requirement already satisfied: click<9.0.0,>=7.1.1 in /home/diego/Coding/learning/technical-tests/chatbot-intent-classification/.venv/lib/python3.11/site-packages (from typer<0.10.0,>=0.3.0->spacy<3.7.0,>=3.6.0->en-core-web-sm==3.6.0) (8.1.7)\n",
      "Requirement already satisfied: MarkupSafe>=2.0 in /home/diego/Coding/learning/technical-tests/chatbot-intent-classification/.venv/lib/python3.11/site-packages (from jinja2->spacy<3.7.0,>=3.6.0->en-core-web-sm==3.6.0) (2.1.3)\n",
      "\u001B[38;5;2m✔ Download and installation successful\u001B[0m\n",
      "You can now load the package via spacy.load('en_core_web_sm')\n",
      "The autoreload extension is already loaded. To reload it, use:\n",
      "  %reload_ext autoreload\n"
     ]
    }
   ],
   "source": [
    "%load_ext autoreload\n",
    "%autoreload 2\n",
    "import os\n",
    "\n",
    "from config import INTENT_DATASET_PATH \n",
    "from data_utils import (create_intent_dataset,\n",
    "                        load_intent_dataset,\n",
    "                        train_test_split_data, \n",
    "                        split_data)\n",
    "from model_training import train_logistic_regression"
   ],
   "metadata": {
    "collapsed": false,
    "ExecuteTime": {
     "end_time": "2023-10-02T15:28:33.098380681Z",
     "start_time": "2023-10-02T15:28:24.786817065Z"
    }
   },
   "id": "f440cec6311cc76b"
  },
  {
   "cell_type": "code",
   "execution_count": 41,
   "outputs": [],
   "source": [
    "if not os.path.exists(INTENT_DATASET_PATH):\n",
    "    create_intent_dataset()"
   ],
   "metadata": {
    "collapsed": false,
    "ExecuteTime": {
     "end_time": "2023-10-02T15:28:33.127321636Z",
     "start_time": "2023-10-02T15:28:33.094498723Z"
    }
   },
   "id": "1cef3820dcf9af4d"
  },
  {
   "cell_type": "code",
   "execution_count": 42,
   "outputs": [
    {
     "name": "stdout",
     "output_type": "stream",
     "text": [
      "<class 'pandas.core.frame.DataFrame'>\n",
      "RangeIndex: 443 entries, 0 to 442\n",
      "Data columns (total 2 columns):\n",
      " #   Column   Non-Null Count  Dtype \n",
      "---  ------   --------------  ----- \n",
      " 0   message  443 non-null    object\n",
      " 1   intent   443 non-null    object\n",
      "dtypes: object(2)\n",
      "memory usage: 7.1+ KB\n"
     ]
    }
   ],
   "source": [
    "intent_df = load_intent_dataset()\n",
    "intent_df.info()"
   ],
   "metadata": {
    "collapsed": false,
    "ExecuteTime": {
     "end_time": "2023-10-02T15:28:33.219477470Z",
     "start_time": "2023-10-02T15:28:33.170606901Z"
    }
   },
   "id": "fb14bae44c7ea194"
  },
  {
   "cell_type": "code",
   "execution_count": 43,
   "outputs": [
    {
     "data": {
      "text/plain": "                                               message           intent\n0          I'm having trouble logging into my account.  troubleshooting\n1             My password isn't working. Can you help?  troubleshooting\n2      I can't access my order history on the website.  troubleshooting\n3          The website is displaying an error message.  troubleshooting\n4      I'm experiencing slow loading times on the app.  troubleshooting\n..                                                 ...              ...\n438                Is there a support chat I can join?   contactSupport\n439  Can you please connect me to a human support a...   contactSupport\n440  I want to reach a person for assistance as soo...   contactSupport\n441              How do I contact a live support team?   contactSupport\n442  I'd like to connect with a real support specia...   contactSupport\n\n[443 rows x 2 columns]",
      "text/html": "<div>\n<style scoped>\n    .dataframe tbody tr th:only-of-type {\n        vertical-align: middle;\n    }\n\n    .dataframe tbody tr th {\n        vertical-align: top;\n    }\n\n    .dataframe thead th {\n        text-align: right;\n    }\n</style>\n<table border=\"1\" class=\"dataframe\">\n  <thead>\n    <tr style=\"text-align: right;\">\n      <th></th>\n      <th>message</th>\n      <th>intent</th>\n    </tr>\n  </thead>\n  <tbody>\n    <tr>\n      <th>0</th>\n      <td>I'm having trouble logging into my account.</td>\n      <td>troubleshooting</td>\n    </tr>\n    <tr>\n      <th>1</th>\n      <td>My password isn't working. Can you help?</td>\n      <td>troubleshooting</td>\n    </tr>\n    <tr>\n      <th>2</th>\n      <td>I can't access my order history on the website.</td>\n      <td>troubleshooting</td>\n    </tr>\n    <tr>\n      <th>3</th>\n      <td>The website is displaying an error message.</td>\n      <td>troubleshooting</td>\n    </tr>\n    <tr>\n      <th>4</th>\n      <td>I'm experiencing slow loading times on the app.</td>\n      <td>troubleshooting</td>\n    </tr>\n    <tr>\n      <th>...</th>\n      <td>...</td>\n      <td>...</td>\n    </tr>\n    <tr>\n      <th>438</th>\n      <td>Is there a support chat I can join?</td>\n      <td>contactSupport</td>\n    </tr>\n    <tr>\n      <th>439</th>\n      <td>Can you please connect me to a human support a...</td>\n      <td>contactSupport</td>\n    </tr>\n    <tr>\n      <th>440</th>\n      <td>I want to reach a person for assistance as soo...</td>\n      <td>contactSupport</td>\n    </tr>\n    <tr>\n      <th>441</th>\n      <td>How do I contact a live support team?</td>\n      <td>contactSupport</td>\n    </tr>\n    <tr>\n      <th>442</th>\n      <td>I'd like to connect with a real support specia...</td>\n      <td>contactSupport</td>\n    </tr>\n  </tbody>\n</table>\n<p>443 rows × 2 columns</p>\n</div>"
     },
     "execution_count": 43,
     "metadata": {},
     "output_type": "execute_result"
    }
   ],
   "source": [
    "intent_df"
   ],
   "metadata": {
    "collapsed": false,
    "ExecuteTime": {
     "end_time": "2023-10-02T15:28:33.264265428Z",
     "start_time": "2023-10-02T15:28:33.218677933Z"
    }
   },
   "id": "78f9807aa142f56d"
  },
  {
   "cell_type": "code",
   "execution_count": 44,
   "outputs": [],
   "source": [
    "train, test = train_test_split_data(intent_df)"
   ],
   "metadata": {
    "collapsed": false,
    "ExecuteTime": {
     "end_time": "2023-10-02T15:28:33.264721558Z",
     "start_time": "2023-10-02T15:28:33.262762386Z"
    }
   },
   "id": "2276e0624999f19b"
  },
  {
   "cell_type": "code",
   "execution_count": 45,
   "outputs": [],
   "source": [
    "x_train, y_train = split_data(train)\n",
    "x_test, y_test = split_data(test)"
   ],
   "metadata": {
    "collapsed": false,
    "ExecuteTime": {
     "end_time": "2023-10-02T15:28:33.343960417Z",
     "start_time": "2023-10-02T15:28:33.262979730Z"
    }
   },
   "id": "e42faac7341e0fa1"
  },
  {
   "cell_type": "code",
   "execution_count": 46,
   "outputs": [
    {
     "data": {
      "text/plain": "                                               message\n17               I can't upload images on the website.\n66   I'm experiencing issues with the website not d...\n248                              Hi, I have a concern.\n246            Hi, can you guide me through something?\n31                   I can't view my purchase history.\n..                                                 ...\n106   Can you help me change my email address on file?\n270  I need to follow up on my case. Can you open a...\n348  I appreciate your assistance, but I think it's...\n435  I require assistance from a live support team ...\n102  I'm experiencing issues with the website not l...\n\n[354 rows x 1 columns]",
      "text/html": "<div>\n<style scoped>\n    .dataframe tbody tr th:only-of-type {\n        vertical-align: middle;\n    }\n\n    .dataframe tbody tr th {\n        vertical-align: top;\n    }\n\n    .dataframe thead th {\n        text-align: right;\n    }\n</style>\n<table border=\"1\" class=\"dataframe\">\n  <thead>\n    <tr style=\"text-align: right;\">\n      <th></th>\n      <th>message</th>\n    </tr>\n  </thead>\n  <tbody>\n    <tr>\n      <th>17</th>\n      <td>I can't upload images on the website.</td>\n    </tr>\n    <tr>\n      <th>66</th>\n      <td>I'm experiencing issues with the website not d...</td>\n    </tr>\n    <tr>\n      <th>248</th>\n      <td>Hi, I have a concern.</td>\n    </tr>\n    <tr>\n      <th>246</th>\n      <td>Hi, can you guide me through something?</td>\n    </tr>\n    <tr>\n      <th>31</th>\n      <td>I can't view my purchase history.</td>\n    </tr>\n    <tr>\n      <th>...</th>\n      <td>...</td>\n    </tr>\n    <tr>\n      <th>106</th>\n      <td>Can you help me change my email address on file?</td>\n    </tr>\n    <tr>\n      <th>270</th>\n      <td>I need to follow up on my case. Can you open a...</td>\n    </tr>\n    <tr>\n      <th>348</th>\n      <td>I appreciate your assistance, but I think it's...</td>\n    </tr>\n    <tr>\n      <th>435</th>\n      <td>I require assistance from a live support team ...</td>\n    </tr>\n    <tr>\n      <th>102</th>\n      <td>I'm experiencing issues with the website not l...</td>\n    </tr>\n  </tbody>\n</table>\n<p>354 rows × 1 columns</p>\n</div>"
     },
     "execution_count": 46,
     "metadata": {},
     "output_type": "execute_result"
    }
   ],
   "source": [
    "x_train"
   ],
   "metadata": {
    "collapsed": false,
    "ExecuteTime": {
     "end_time": "2023-10-02T15:28:33.347003937Z",
     "start_time": "2023-10-02T15:28:33.306657291Z"
    }
   },
   "id": "a7e7f033f120c36c"
  },
  {
   "cell_type": "code",
   "execution_count": 47,
   "outputs": [
    {
     "data": {
      "text/plain": "17     troubleshooting\n66     troubleshooting\n248           greeting\n246           greeting\n31     troubleshooting\n            ...       \n106    editInformation\n270       createTicket\n348       createTicket\n435     contactSupport\n102    troubleshooting\nName: intent, Length: 354, dtype: object"
     },
     "execution_count": 47,
     "metadata": {},
     "output_type": "execute_result"
    }
   ],
   "source": [
    "y_train"
   ],
   "metadata": {
    "collapsed": false,
    "ExecuteTime": {
     "end_time": "2023-10-02T15:28:33.420313806Z",
     "start_time": "2023-10-02T15:28:33.338318962Z"
    }
   },
   "id": "f35f7d07ea82af3a"
  },
  {
   "cell_type": "code",
   "execution_count": 48,
   "outputs": [
    {
     "data": {
      "text/plain": "17     troubleshooting\n66     troubleshooting\n248           greeting\n246           greeting\n31     troubleshooting\n84     troubleshooting\n304       createTicket\n245           greeting\n180           greeting\n438     contactSupport\nName: intent, dtype: object"
     },
     "execution_count": 48,
     "metadata": {},
     "output_type": "execute_result"
    }
   ],
   "source": [
    "y_train.head(10)"
   ],
   "metadata": {
    "collapsed": false,
    "ExecuteTime": {
     "end_time": "2023-10-02T15:28:33.420905497Z",
     "start_time": "2023-10-02T15:28:33.413431630Z"
    }
   },
   "id": "58b4f96d0b25350c"
  },
  {
   "cell_type": "code",
   "execution_count": 50,
   "outputs": [
    {
     "name": "stdout",
     "output_type": "stream",
     "text": [
      "Starting training...\n",
      "Assessing performance...\n",
      "Model Performance metrics:\n",
      "------------------------------\n",
      "Accuracy: 1.0\n",
      "Precision: 1.0\n",
      "Recall: 1.0\n",
      "F1 Score: 1.0\n",
      "\n",
      "Model Classification report:\n",
      "------------------------------\n",
      "                 precision    recall  f1-score   support\n",
      "\n",
      " contactSupport       1.00      1.00      1.00        20\n",
      "   createTicket       1.00      1.00      1.00        19\n",
      "editInformation       1.00      1.00      1.00        13\n",
      "       greeting       1.00      1.00      1.00         9\n",
      "troubleshooting       1.00      1.00      1.00        28\n",
      "\n",
      "       accuracy                           1.00        89\n",
      "      macro avg       1.00      1.00      1.00        89\n",
      "   weighted avg       1.00      1.00      1.00        89\n",
      "\n",
      "\n",
      "Prediction Confusion Matrix:\n",
      "------------------------------\n",
      "    0   1   2  3   4\n",
      "0  20   0   0  0   0\n",
      "1   0  19   0  0   0\n",
      "2   0   0  13  0   0\n",
      "3   0   0   0  9   0\n",
      "4   0   0   0  0  28\n",
      "Saving metrics to MLFlow...\n"
     ]
    },
    {
     "name": "stderr",
     "output_type": "stream",
     "text": [
      "/home/diego/Coding/learning/technical-tests/chatbot-intent-classification/.venv/lib/python3.11/site-packages/_distutils_hack/__init__.py:18: UserWarning: Distutils was imported before Setuptools, but importing Setuptools also replaces the `distutils` module in `sys.modules`. This may lead to undesirable behaviors or errors. To avoid these issues, avoid using distutils directly, ensure that setuptools is installed in the traditional way (e.g. not an editable install), and/or make sure that setuptools is always imported before distutils.\n",
      "  warnings.warn(\n",
      "/home/diego/Coding/learning/technical-tests/chatbot-intent-classification/.venv/lib/python3.11/site-packages/_distutils_hack/__init__.py:33: UserWarning: Setuptools is replacing distutils.\n",
      "  warnings.warn(\"Setuptools is replacing distutils.\")\n"
     ]
    }
   ],
   "source": [
    "train_logistic_regression(x_train, y_train, x_test, y_test)"
   ],
   "metadata": {
    "collapsed": false,
    "ExecuteTime": {
     "end_time": "2023-10-02T15:43:14.572011511Z",
     "start_time": "2023-10-02T15:43:08.185801367Z"
    }
   },
   "id": "a2f9e470540859e5"
  }
 ],
 "metadata": {
  "kernelspec": {
   "display_name": "Python 3",
   "language": "python",
   "name": "python3"
  },
  "language_info": {
   "codemirror_mode": {
    "name": "ipython",
    "version": 2
   },
   "file_extension": ".py",
   "mimetype": "text/x-python",
   "name": "python",
   "nbconvert_exporter": "python",
   "pygments_lexer": "ipython2",
   "version": "2.7.6"
  }
 },
 "nbformat": 4,
 "nbformat_minor": 5
}
